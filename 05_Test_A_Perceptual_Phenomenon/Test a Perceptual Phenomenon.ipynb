{
 "cells": [
  {
   "cell_type": "markdown",
   "metadata": {},
   "source": [
    "# Analyzing the Stroop Effect\n",
    "\n",
    "In a Stroop task, participants are presented with a list of words, with each word displayed in a color of ink. The participant’s task is to say out loud the color of the ink in which the word is printed. The task has two conditions: a congruent words condition, and an incongruent words condition. In the congruent words condition, the words being displayed are color words whose names match the colors in which they are printed: for example RED, BLUE. In the incongruent words condition, the words displayed are color words whose names do not match the colors in which they are printed: for example PURPLE, ORANGE. In each case, we measure the time it takes to name the ink colors in equally-sized lists. Each participant will go through and record a time from each condition."
   ]
  },
  {
   "cell_type": "markdown",
   "metadata": {},
   "source": [
    "Let's have a first glance at the [dataset](https://www.google.com/url?q=https://drive.google.com/file/d/0B9Yf01UaIbUgQXpYb2NhZ29yX1U/view?usp%3Dsharing&sa=D&ust=1551381596262000).\n",
    "\n",
    "First, let's import the necessary :"
   ]
  },
  {
   "cell_type": "code",
   "execution_count": 1,
   "metadata": {},
   "outputs": [],
   "source": [
    "import pandas as pd\n",
    "import numpy as np\n",
    "import matplotlib.pyplot as plt\n",
    "% matplotlib inline\n",
    "import seaborn as sns\n",
    "sns.set_style('darkgrid')"
   ]
  },
  {
   "cell_type": "markdown",
   "metadata": {},
   "source": [
    "Now, let's load the dataset."
   ]
  },
  {
   "cell_type": "code",
   "execution_count": 2,
   "metadata": {},
   "outputs": [
    {
     "data": {
      "text/html": [
       "<div>\n",
       "<style>\n",
       "    .dataframe thead tr:only-child th {\n",
       "        text-align: right;\n",
       "    }\n",
       "\n",
       "    .dataframe thead th {\n",
       "        text-align: left;\n",
       "    }\n",
       "\n",
       "    .dataframe tbody tr th {\n",
       "        vertical-align: top;\n",
       "    }\n",
       "</style>\n",
       "<table border=\"1\" class=\"dataframe\">\n",
       "  <thead>\n",
       "    <tr style=\"text-align: right;\">\n",
       "      <th></th>\n",
       "      <th>Congruent</th>\n",
       "      <th>Incongruent</th>\n",
       "    </tr>\n",
       "  </thead>\n",
       "  <tbody>\n",
       "    <tr>\n",
       "      <th>0</th>\n",
       "      <td>12.079</td>\n",
       "      <td>19.278</td>\n",
       "    </tr>\n",
       "    <tr>\n",
       "      <th>1</th>\n",
       "      <td>16.791</td>\n",
       "      <td>18.741</td>\n",
       "    </tr>\n",
       "  </tbody>\n",
       "</table>\n",
       "</div>"
      ],
      "text/plain": [
       "   Congruent  Incongruent\n",
       "0     12.079       19.278\n",
       "1     16.791       18.741"
      ]
     },
     "execution_count": 2,
     "metadata": {},
     "output_type": "execute_result"
    }
   ],
   "source": [
    "df_stroop = pd.read_csv('stroopdata.csv')\n",
    "df_stroop.head(2)"
   ]
  },
  {
   "cell_type": "markdown",
   "metadata": {},
   "source": [
    "This dataset contains results from a number of participants in the Stroop task. Each row of the dataset contains the performance for one participant, with the first number their results on the congruent task and the second number their performance on the incongruent task.\n",
    "\n",
    "The performance corresponds to the total time in second of the experiment (TTE). The smaller the TTE is, the better the performance."
   ]
  },
  {
   "cell_type": "code",
   "execution_count": 3,
   "metadata": {},
   "outputs": [
    {
     "name": "stdout",
     "output_type": "stream",
     "text": [
      "<class 'pandas.core.frame.DataFrame'>\n",
      "RangeIndex: 24 entries, 0 to 23\n",
      "Data columns (total 2 columns):\n",
      "Congruent      24 non-null float64\n",
      "Incongruent    24 non-null float64\n",
      "dtypes: float64(2)\n",
      "memory usage: 464.0 bytes\n"
     ]
    },
    {
     "data": {
      "text/plain": [
       "(None, Congruent      0\n",
       " Incongruent    0\n",
       " dtype: int64)"
      ]
     },
     "execution_count": 3,
     "metadata": {},
     "output_type": "execute_result"
    }
   ],
   "source": [
    "df_stroop.info(), df_stroop.isnull().sum()"
   ]
  },
  {
   "cell_type": "markdown",
   "metadata": {},
   "source": [
    "There are 24 rows in the dataset, it is very small and it might not represent fully the population. There are no missing values."
   ]
  },
  {
   "cell_type": "markdown",
   "metadata": {},
   "source": [
    "## Thoughts about the dataset"
   ]
  },
  {
   "cell_type": "markdown",
   "metadata": {},
   "source": [
    "(1) What is the independent variable? What is the dependent variable?"
   ]
  },
  {
   "cell_type": "markdown",
   "metadata": {},
   "source": [
    "The **independent variable** is wether it is the congruent words condition or the the incongruent words condition.\n",
    "\n",
    "The **dependent variable is** the time it takes for the participant to name the ink color."
   ]
  },
  {
   "cell_type": "markdown",
   "metadata": {},
   "source": [
    "(2) What is an appropriate set of hypotheses for this task? Specify your null and alternative hypotheses, and clearly define any notation used. Justify your choices."
   ]
  },
  {
   "cell_type": "markdown",
   "metadata": {},
   "source": [
    "An appropriate set of hypotheses for this task is :\n",
    "$$H_0 : \\mu_{incong} \\leq  \\mu_{cong}$$\n",
    "$$H_1 :  \\mu_{incong} > \\mu_{cong}$$\n",
    "Where $\\mu_{cong}$ represents the population TTE mean under the congruent words condition and $\\mu_{incong}$ represents the population TTE mean under the incongruent words condition.\n",
    "\n",
    "This set of hypotheses states that :\n",
    "- the null hypothesis is the hypothesis where the population TTE mean under the incongruent task is lower or equal to the population TTE mean under the congruent task.\n",
    "- the alternative hypothesis is the hypothesis where the population TTE mean under the incongruent task is greater than the population TTE mean under the congruent task.\n",
    "\n",
    "As each participant was asked to perform the tasks under both the congruent words condition and the incongruent words condition, we are dealing with paired observations.  We could then use a **Paired T-Test** with a level $\\alpha=0.05$ to compare the population TTE means under the congruent and incongruent words condition. The assumptions that underpin a paired t-test would be met :\n",
    "- the dependent variable is continuous : the time (s) is continuous.\n",
    "- the independent variable consist of two categorical, \"related groups\" or \"matched pairs\" : congruent and incongruent categories.\n",
    "- there are no proven outliers : the only suspicious data can be explained by the small size of the dataset (see below).\n",
    "- the distribution of the differences in the dependent variable between the two related groups are aproximately normally distributed.\n",
    "\n",
    "We could also realize a **95% confidence interval** which is equivalent to a T-Test with a level $\\alpha=0.05$.\n",
    "\n",
    "However in this analyse we are going to use the **sample bootstrapping** method (with a level $\\alpha=0.05$) as it relies on less assumptions and this is also a particularly used method in the lessons."
   ]
  },
  {
   "cell_type": "markdown",
   "metadata": {},
   "source": [
    "## The exploration"
   ]
  },
  {
   "cell_type": "markdown",
   "metadata": {},
   "source": [
    "(3) Report some descriptive statistics regarding this dataset. Include at least one measure of central tendency and at least one measure of variability. The name of the data file is 'stroopdata.csv'."
   ]
  },
  {
   "cell_type": "markdown",
   "metadata": {},
   "source": [
    "(4) Provide one or two visualizations that show the distribution of the sample data. Write one or two sentences noting what you observe about the plot or plots."
   ]
  },
  {
   "cell_type": "markdown",
   "metadata": {},
   "source": [
    "Let's see how the values are distributed :"
   ]
  },
  {
   "cell_type": "code",
   "execution_count": 4,
   "metadata": {},
   "outputs": [
    {
     "data": {
      "image/png": "[encoded data removed]",
      "text/plain": [
       "<matplotlib.figure.Figure at 0x7fdadfbe7048>"
      ]
     },
     "metadata": {
      "needs_background": "light"
     },
     "output_type": "display_data"
    }
   ],
   "source": [
    "plt.hist(df_stroop['Congruent'], alpha=0.5, label='Congruent')\n",
    "plt.hist(df_stroop['Incongruent'], alpha=0.5, label='Incongruent')\n",
    "plt.legend(loc='upper right')\n",
    "plt.title('Frequency of the TTE under the congruent and incongruent tasks.')\n",
    "plt.xlabel('TTE (s)')\n",
    "plt.ylabel('Frequency');"
   ]
  },
  {
   "cell_type": "code",
   "execution_count": 5,
   "metadata": {},
   "outputs": [
    {
     "data": {
      "text/plain": [
       "(Congruent      14.051125\n",
       " Incongruent    22.015917\n",
       " dtype: float64, Congruent      3.559358\n",
       " Incongruent    4.797057\n",
       " dtype: float64)"
      ]
     },
     "execution_count": 5,
     "metadata": {},
     "output_type": "execute_result"
    }
   ],
   "source": [
    "df_stroop.mean(), df_stroop.std()"
   ]
  },
  {
   "cell_type": "markdown",
   "metadata": {},
   "source": [
    "At first glance, the TTE under the incongruent task seems to be most of the time bigger than under the congruent task, meaning that the performance under the congruent task seems to be better. The means seem to go in this direction with a mean of 14.05 for the congruent task and a mean of 22.02 for the incongruent task. The values are slightly more spread out under the incongruent task with a standard deviation of 4.80 than under the congruent task with a standard deviation of 3.56.\n",
    "\n",
    "For the incongruent task, we can see a bin alone around 35. This can be an outlier, however the small size of the dataset can be responsible.\n",
    "\n",
    "The shape of these distributions seems to be rather right-skewed. Let boxplot the congruent and incongruent tasks :"
   ]
  },
  {
   "cell_type": "code",
   "execution_count": 6,
   "metadata": {},
   "outputs": [
    {
     "data": {
      "image/png": "[encoded data removed]",
      "text/plain": [
       "<matplotlib.figure.Figure at 0x7fdadfc13e48>"
      ]
     },
     "metadata": {
      "needs_background": "light"
     },
     "output_type": "display_data"
    }
   ],
   "source": [
    "plt.boxplot(df_stroop['Congruent'], vert=False)\n",
    "plt.title('Boxplot for the congruent task');"
   ]
  },
  {
   "cell_type": "code",
   "execution_count": 7,
   "metadata": {},
   "outputs": [
    {
     "data": {
      "image/png": "[encoded data removed]",
      "text/plain": [
       "<matplotlib.figure.Figure at 0x7fdaddb3e320>"
      ]
     },
     "metadata": {
      "needs_background": "light"
     },
     "output_type": "display_data"
    }
   ],
   "source": [
    "plt.boxplot(df_stroop['Incongruent'], vert=False)\n",
    "plt.title('Boxplot for the incongruent task');"
   ]
  },
  {
   "cell_type": "markdown",
   "metadata": {},
   "source": [
    "While the boxplot for the congruent task seems to be rather right-skewed, the boxplot for the incongruent task seems rather symmetric with some outliers. Again, this might be because of the small size of the dataset."
   ]
  },
  {
   "cell_type": "markdown",
   "metadata": {},
   "source": [
    "If we stand with the right-skewed distribution, the median might be a better measure of center :"
   ]
  },
  {
   "cell_type": "code",
   "execution_count": 8,
   "metadata": {},
   "outputs": [
    {
     "data": {
      "text/plain": [
       "(14.3565, 21.017499999999998)"
      ]
     },
     "execution_count": 8,
     "metadata": {},
     "output_type": "execute_result"
    }
   ],
   "source": [
    "# median \n",
    "np.percentile(df_stroop['Congruent'], 50), np.percentile(df_stroop['Incongruent'], 50)"
   ]
  },
  {
   "cell_type": "markdown",
   "metadata": {},
   "source": [
    "The median of both congruent and incongruent tasks are very close to the mean computed above, so we might say that the distributions of both congruent and incongruent tasks are approximately normally distributed."
   ]
  },
  {
   "cell_type": "markdown",
   "metadata": {},
   "source": [
    "## The statistical test"
   ]
  },
  {
   "cell_type": "markdown",
   "metadata": {},
   "source": [
    "(5)  Now, perform the statistical test and report your results. What is your confidence level or Type I error associated with your test? What is your conclusion regarding the hypotheses you set up? Did the results match up with your expectations? **Hint:**  Think about what is being measured on each individual, and what statistic best captures how an individual reacts in each environment."
   ]
  },
  {
   "cell_type": "code",
   "execution_count": 9,
   "metadata": {},
   "outputs": [
    {
     "data": {
      "text/plain": [
       "7.9647916666666667"
      ]
     },
     "execution_count": 9,
     "metadata": {},
     "output_type": "execute_result"
    }
   ],
   "source": [
    "# Sample we have\n",
    "sample_size = df_stroop.shape[0]\n",
    "cong_sample = df_stroop['Congruent']\n",
    "cong_sample_mean = cong_sample.mean()\n",
    "incong_sample = df_stroop['Incongruent']\n",
    "incong_sample_mean = incong_sample.mean()\n",
    "sample_diff_mean = incong_sample_mean - cong_sample_mean;\n",
    "sample_diff_mean"
   ]
  },
  {
   "cell_type": "code",
   "execution_count": 10,
   "metadata": {},
   "outputs": [],
   "source": [
    "# sample difference mean distribution\n",
    "diff_means = []\n",
    "\n",
    "for _ in range(10000):\n",
    "    cong_other_sample = cong_sample.sample(sample_size, replace=True)\n",
    "    incong_other_sample = incong_sample.sample(sample_size)\n",
    "    diff_means.append(incong_other_sample.mean() - cong_other_sample.mean())\n",
    "\n",
    "diff_means = np.array(diff_means)"
   ]
  },
  {
   "cell_type": "code",
   "execution_count": 11,
   "metadata": {},
   "outputs": [
    {
     "data": {
      "image/png": "[encoded data removed]",
      "text/plain": [
       "<matplotlib.figure.Figure at 0x7fdaddb7d240>"
      ]
     },
     "metadata": {
      "needs_background": "light"
     },
     "output_type": "display_data"
    }
   ],
   "source": [
    "plt.hist(diff_means);"
   ]
  },
  {
   "cell_type": "markdown",
   "metadata": {},
   "source": [
    "We simulate a distribution of samples (difference of the TTE mean under congruent and incongruent tasks) under the null hypothesis :"
   ]
  },
  {
   "cell_type": "code",
   "execution_count": 12,
   "metadata": {},
   "outputs": [],
   "source": [
    "simulated_diff_means = np.random.normal(0, diff_means.std(), diff_means.size)"
   ]
  },
  {
   "cell_type": "code",
   "execution_count": 13,
   "metadata": {},
   "outputs": [
    {
     "data": {
      "image/png": "[encoded data removed]",
      "text/plain": [
       "<matplotlib.figure.Figure at 0x7fdaddac40f0>"
      ]
     },
     "metadata": {
      "needs_background": "light"
     },
     "output_type": "display_data"
    }
   ],
   "source": [
    "plt.hist(simulated_diff_means)\n",
    "plt.axvline(x=sample_diff_mean, color='r');"
   ]
  },
  {
   "cell_type": "markdown",
   "metadata": {},
   "source": [
    "We can see that our statistic is way above the simulated distribution under the null ($\\mu_{incong} - \\mu_{cong} > 0$), so we can already state that we have statistical significance and we can reject the null hypothesis.\n",
    "\n",
    "Let's compute the p-value to be certain :"
   ]
  },
  {
   "cell_type": "code",
   "execution_count": 14,
   "metadata": {},
   "outputs": [
    {
     "data": {
      "text/plain": [
       "0.0"
      ]
     },
     "execution_count": 14,
     "metadata": {},
     "output_type": "execute_result"
    }
   ],
   "source": [
    "p_value = (simulated_diff_means > sample_diff_mean).mean()\n",
    "p_value"
   ]
  },
  {
   "cell_type": "markdown",
   "metadata": {},
   "source": [
    "The p-value is equal to 0.0, meaning that the probability of observing our statistic (or one more extreme in favor of the alternative) if the hypothesis is true is null. It is thus inferior to our confidence level $\\alpha=0.05$.\n",
    "\n",
    "Our final decision is that we reject the null hypothesis and accept the alternative : the TTE of incongruent tasks is bigger than the TTE of congruent tasks, thus the performance is better under congruent words condition than under incongruent words condition. This matches our expectations."
   ]
  },
  {
   "cell_type": "markdown",
   "metadata": {},
   "source": [
    "## To go further"
   ]
  },
  {
   "cell_type": "markdown",
   "metadata": {},
   "source": [
    "(6) Optional: What do you think is responsible for the effects observed? Can you think of an alternative or similar task that would result in a similar effect? Some research about the problem will be helpful for thinking about these two questions!"
   ]
  },
  {
   "cell_type": "markdown",
   "metadata": {},
   "source": [
    "Learning to read is something we do so early in our lives, that our brains may become accustomed to mechanically read any text that is presented in front of our eyes. The reading reflex might slow down the participant as he has to switch between his reflex and the task of the experiment (which is to analyze the color of the text).\n",
    "\n",
    "There are other related experiments to the performed Stroop that may produce similar effects : the [numerical stroop effect](https://en.wikipedia.org/wiki/Numerical_Stroop_effect) and the [spatial stroop effect](https://en.wikipedia.org/wiki/Stroop_effect#Spatial) are some examples."
   ]
  },
  {
   "cell_type": "markdown",
   "metadata": {},
   "source": [
    "## Sources\n",
    "\n",
    "[paired t-test](https://statistics.laerd.com/stata-tutorials/paired-t-test-using-stata.php),\n",
    "[stroop effect](https://en.wikipedia.org/wiki/Stroop_effect)"
   ]
  }
 ],
 "metadata": {
  "kernelspec": {
   "display_name": "Python 3",
   "language": "python",
   "name": "python3"
  },
  "language_info": {
   "codemirror_mode": {
    "name": "ipython",
    "version": 3
   },
   "file_extension": ".py",
   "mimetype": "text/x-python",
   "name": "python",
   "nbconvert_exporter": "python",
   "pygments_lexer": "ipython3",
   "version": "3.6.3"
  }
 },
 "nbformat": 4,
 "nbformat_minor": 2
}
